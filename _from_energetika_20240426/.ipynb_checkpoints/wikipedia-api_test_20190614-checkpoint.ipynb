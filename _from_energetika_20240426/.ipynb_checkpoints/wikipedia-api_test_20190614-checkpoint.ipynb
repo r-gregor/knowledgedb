{
 "cells": [
  {
   "cell_type": "code",
   "execution_count": 12,
   "metadata": {},
   "outputs": [],
   "source": [
    "import wikipedia"
   ]
  },
  {
   "cell_type": "code",
   "execution_count": 5,
   "metadata": {},
   "outputs": [
    {
     "name": "stdout",
     "output_type": "stream",
     "text": [
      "Python is an interpreted, high-level, general-purpose programming language. Created by Guido van Rossum and first released in 1991, Python's design philosophy emphasizes code readability with its notable use of significant whitespace. Its language constructs and object-oriented approach aims to help programmers write clear, logical code for small and large-scale projects.Python is dynamically typed and garbage-collected. It supports multiple programming paradigms, including procedural, object-oriented, and  functional programming. Python is often described as a \"batteries included\" language due to its comprehensive standard library.Python was conceived in the late 1980s as a successor to the ABC language. Python 2.0, released 2000, introduced features like list comprehensions and a garbage collection system capable of collecting reference cycles. Python 3.0, released 2008, was a major revision of the language that is not completely backward-compatible, and much Python 2 code does not run unmodified on Python 3. Due to concern about the amount of code written for Python 2, support for Python 2.7 (the last release in the 2.x series) was extended to 2020. Language developer Guido van Rossum shouldered sole responsibility for the project until July 2018 but now shares his leadership as a member of a five-person steering council.Python interpreters are available for many operating systems. A global community of programmers develops and maintains CPython, an open source reference implementation. A non-profit organization, the Python Software Foundation, manages and directs resources for Python and CPython development.\n",
      "\n",
      "\n",
      "== History ==\n",
      "\n",
      "Python was conceived in the late 1980s by Guido van Rossum at Centrum Wiskunde & Informatica (CWI) in the Netherlands as a successor to the ABC language (itself inspired by SETL), capable of exception handling and interfacing with the Amoeba operating system. Its implementation began in December 1989. Van Rossum continued as Python's lead developer until July 12, 2018, when he announced his \"permanent vacation\" from his responsibilities as Python's Benevolent Dictator For Life, a title the Python community bestowed upon him to reflect his long-term commitment as the project's chief decision-maker. In January, 2019, active Python core developers elected Brett Cannon, Nick Coghlan, Barry Warsaw, Carol Willing and Van Rossum to a five-member \"Steering Council\" to lead the project.Python 2.0 was released on 16 October 2000 with many major new features, including a cycle-detecting garbage collector and support for Unicode.Python 3.0 was released on 3 December 2008. It was a major revision of the language that is not completely backward-compatible. Many of its major features were backported to Python 2.6.x and 2.7.x version series.  Releases of Python 3 include the 2to3 utility, which automates (at least partially) the translation of Python 2 code to Python 3.Python 2.7's end-of-life date was initially set at 2015 then postponed to 2020 out of concern that a large body of existing code could not easily be forward-ported to Python 3. In January 2017, Google announced work on a Python 2.7 to Go transcompiler to improve performance under concurrent workloads.\n",
      "\n",
      "\n",
      "== Features and philosophy ==\n",
      "Python is a multi-paradigm programming language. Object-oriented programming and structured programming are fully supported, and many of its features support functional programming and aspect-oriented programming (including by metaprogramming and metaobjects (magic methods)). Many other paradigms are supported via extensions, including design by contract and logic programming.Python uses dynamic typing, and a combination of reference counting and a cycle-detecting garbage collector for memory management. It also features dynamic name resolution (late binding), which binds method and variable names during program execution.\n",
      "Python's design offers some support for functional programming in the Lisp tradition. It has filter, map, and reduce functions; list comprehensions, dictionaries, sets and generator expressions. The standard library has two modules (itertools and functools) that implement functional tools borrowed from Haskell and Standard ML.The language's core philosophy is summarized in the document The Zen of Python (PEP 20), which includes aphorisms such as:\n",
      "Beautiful is better than ugly\n",
      "Explicit is better than implicit\n",
      "Simple is better than complex\n",
      "Complex is better than complicated\n",
      "Readability countsRather than having all of its functionality built into its core, Python was designed to be highly extensible. This compact modularity has made it particularly popular as a means of adding programmable interfaces to existing applications. Van Rossum's vision of a small core language with a large standard library and easily extensible interpreter stemmed from his frustrations with ABC, which espoused the opposite approach.Python strives for a simpler, less-cluttered syntax and grammar while giving developers a choice in their coding methodology. In contrast to Perl's \"there is more than one way to do it\" motto, Python embraces a \"there should be one—and preferably only one—obvious way to do it\" design philosophy. Alex Martelli, a Fellow at the Python Software Foundation and Python book author, writes that \"To describe something as 'clever' is not considered a compliment in the Python culture.\"Python's developers strive to avoid premature optimization, and reject patches to non-critical parts of the CPython reference implementation that would offer marginal increases in speed at the cost of clarity. When speed is important, a Python programmer can move time-critical functions to extension modules written in languages such as C, or use PyPy, a just-in-time compiler. Cython is also available, which translates a Python script into C and makes direct C-level API calls into the Python interpreter.\n",
      "An important goal of Python's developers is keeping it fun to use. This is reflected in the language's name—a tribute to the British comedy group Monty Python—and in occasionally playful approaches to tutorials and reference materials, such as examples that refer to spam and eggs (from a famous Monty Python sketch) instead of the standard foo and bar.A common neologism in the Python community is pythonic, which can have a wide range of meanings related to program style. To say that code is pythonic is to say that it uses Python idioms well, that it is natural or shows fluency in the language, that it conforms with Python's minimalist philosophy and emphasis on readability. In contrast, code that is difficult to understand or reads like a rough transcription from another programming language is called unpythonic.\n",
      "Users and admirers of Python, especially those considered knowledgeable or experienced, are often referred to as Pythonists, Pythonistas, and Pythoneers.\n",
      "\n",
      "\n",
      "== Syntax and semantics ==\n",
      "\n",
      "Python is meant to be an easily readable language. Its formatting is visually uncluttered, and it often uses English keywords where other languages use punctuation. Unlike many other languages, it does not use curly brackets to delimit blocks, and semicolons after statements are optional. It has fewer syntactic exceptions and special cases than C or Pascal.\n",
      "\n",
      "\n",
      "=== Indentation ===\n",
      "\n",
      "Python uses whitespace indentation, rather than curly brackets or keywords, to delimit blocks. An increase in indentation comes after certain statements; a decrease in indentation signifies the end of the current block. Thus, the program's visual structure accurately represents the program's semantic structure. This feature is also sometimes termed the off-side rule.\n",
      "\n",
      "\n",
      "=== Statements and control flow ===\n",
      "Python's statements include (among others):\n",
      "\n",
      "The assignment statement (token '=', the equals sign). This operates differently than in traditional imperative programming languages, and this fundamental mechanism (including the nature of Python's version of variables) illuminates many other features of the language. Assignment in C, e.g., x = 2, translates to \"typed variable name x receives a copy of numeric value 2\". The (right-hand) value is copied into an allocated storage location for which the (left-hand) variable name is the symbolic address. The memory allocated to the variable is large enough (potentially quite large) for the declared type. In the simplest case of Python assignment, using the same example, x = 2, translates to \"(generic) name x receives a reference to a separate, dynamically allocated object of numeric (int) type of value 2.\" This is termed binding the name to the object. Since the name's storage location doesn't contain the indicated value, it is improper to call it a variable. Names may be subsequently rebound at any time to objects of greatly varying types, including strings, procedures, complex objects with data and methods, etc. Successive assignments of a common value to multiple names, e.g., x = 2; y = 2; z = 2 result in allocating storage to (at most) three names and one numeric object, to which all three names are bound. Since a name is a generic reference holder it is unreasonable to associate a fixed data type with it. However at a given time a name will be bound to some object, which will have a type; thus there is dynamic typing.\n",
      "The if statement, which conditionally executes a block of code, along with else and elif (a contraction of else-if).\n",
      "The for statement, which iterates over an iterable object, capturing each element to a local variable for use by the attached block.\n",
      "The while statement, which executes a block of code as long as its condition is true.\n",
      "The try statement, which allows exceptions raised in its attached code block to be caught and handled by except clauses; it also ensures that clean-up code in a finally block will always be run regardless of how the block exits.\n",
      "The raise statement, used to raise a specified exception or re-raise a caught exception.\n",
      "The class statement, which executes a block of code and attaches its local namespace to a class, for use in object-oriented programming.\n",
      "The def statement, which defines a function or method.\n",
      "The with statement, from Python 2.5 released on September 2006, which encloses a code block within a context manager (for example, acquiring a lock before the block of code is run and releasing the lock afterwards, or opening a file and then closing it), allowing Resource Acquisition Is Initialization (RAII)-like behavior and replaces a common try/finally idiom.\n",
      "The pass statement, which serves as a NOP. It is syntactically needed to create an empty code block.\n",
      "The assert statement, used during debugging to check for conditions that ought to apply.\n",
      "The yield statement, which returns a value from a generator function. From Python 2.5, yield is also an operator. This form is used to implement coroutines.\n",
      "The import statement, which is used to import modules whose functions or variables can be used in the current program. There are three ways of using import: import <module name> [as <alias>] or from <module name> import * or from <module name> import <definition 1> [as <alias 1>], <definition 2> [as <alias 2>], ....\n",
      "The print statement was changed to the print() function in Python 3.\n",
      "Python does not support tail call optimization or first-class continuations, and, according to Guido van Rossum, it never will. However, better support for coroutine-like functionality is provided in 2.5, by extending Python's generators. Before 2.5, generators were lazy iterators; information was passed unidirectionally out of the generator. From Python 2.5, it is possible to pass information back into a generator function, and from Python 3.3, the information can be passed through multiple stack levels.\n",
      "\n",
      "\n",
      "=== Expressions ===\n",
      "Some Python expressions are similar to languages such as C and Java, while some are not:\n",
      "\n",
      "Addition, subtraction, and multiplication are the same, but the behavior of division differs. There are two types of divisions in Python. They are floor division and integer division. Python also added the ** operator for exponentiation.\n",
      "From Python 3.5, the new @ infix operator was introduced. It is intended to be used by libraries such as NumPy for matrix multiplication.\n",
      "In Python, == compares by value, versus Java, which compares numerics by value and objects by reference. (Value comparisons in Java on objects can be performed with the equals() method.) Python's is operator may be used to compare object identities (comparison by reference). In Python, comparisons may be chained, for example a <= b <= c.\n",
      "Python uses the words and, or, not for its boolean operators rather than the symbolic &&, ||, ! used in Java and C.\n",
      "Python has a type of expression termed a list comprehension. Python 2.4 extended list comprehensions into a more general expression termed a generator expression.\n",
      "Anonymous functions are implemented using lambda expressions; however, these are limited in that the body can only be one expression.\n",
      "Conditional expressions in Python are written as x if c else y (different in order of operands from the c ? x : y operator common to many other languages).\n",
      "Python makes a distinction between lists and tuples. Lists are written as [1, 2, 3], are mutable, and cannot be used as the keys of dictionaries (dictionary keys must be immutable in Python). Tuples are written as (1, 2, 3), are immutable and thus can be used as the keys of dictionaries, provided all elements of the tuple are immutable. The + operator can be used to concatenate two tuples, which does not directly modify their contents, but rather produces a new tuple containing the elements of both provided tuples. Thus, given the variable t initially equal to (1, 2, 3), executing t = t + (4, 5) first evaluates t + (4, 5), which yields (1, 2, 3, 4, 5), which is then assigned back to t, thereby effectively \"modifying the contents\" of t, while conforming to the immutable nature of tuple objects. Parentheses are optional for tuples in unambiguous contexts.\n",
      "Python features sequence unpacking where multiple expressions, each evaluating to anything that can be assigned to (a variable, a writable property, etc.), are associated in the identical manner to that forming tuple literals and, as a whole, are put on the left hand side of the equal sign in an assignment statement. The statement expects an iterable object on the right hand side of the equal sign that produces the same number of values as the provided writable expressions when iterated through, and will iterate through it, assigning each of the produced values to the corresponding expression on the left.\n",
      "Python has a \"string format\" operator %. This functions analogous to printf format strings in C, e.g. \"spam=%s eggs=%d\" % (\"blah\", 2) evaluates to \"spam=blah eggs=2\". In Python 3 and 2.6+, this was supplemented by the format() method of the str class, e.g. \"spam={0} eggs={1}\".format(\"blah\", 2). Python 3.6 added \"f-strings\": blah = \"blah\"; eggs = 2; f'spam={blah} eggs={eggs}'.\n",
      "Python has various kinds of string literals:\n",
      "Strings delimited by single or double quote marks. Unlike in Unix shells, Perl and Perl-influenced languages, single quote marks and double quote marks function identically. Both kinds of string use the backslash (\\) as an escape character. String interpolation became available in Python 3.6 as \"formatted string literals\".\n",
      "Triple-quoted strings, which begin and end with a series of three single or double quote marks. They may span multiple lines and function like here documents in shells, Perl and Ruby.\n",
      "Raw string varieties, denoted by prefixing the string literal with an r. Escape sequences are not interpreted; hence raw strings are useful where literal backslashes are common, such as regular expressions and Windows-style paths. Compare \"@-quoting\" in C#.\n",
      "Python has array index and array slicing expressions on lists, denoted as a[key], a[start:stop] or a[start:stop:step]. Indexes are zero-based, and negative indexes are relative to the end. Slices take elements from the start index up to, but not including, the stop index. The third slice parameter, called step or stride, allows elements to be skipped and reversed. Slice indexes may be omitted, for example a[:] returns a copy of the entire list. Each element of a slice is a shallow copy.In Python, a distinction between expressions and statements is rigidly enforced, in contrast to languages such as Common Lisp, Scheme, or Ruby. This leads to duplicating some functionality. For example:\n",
      "\n",
      "List comprehensions vs. for-loops\n",
      "Conditional expressions vs. if blocks\n",
      "The eval() vs. exec() built-in functions (in Python 2, exec is a statement); the former is for expressions, the latter is for statements.Statements cannot be a part of an expression, so list and other comprehensions or lambda expressions, all being expressions, cannot contain statements. A particular case of this is that an assignment statement such as a = 1 cannot form part of the conditional expression of a conditional statement. This has the advantage of avoiding a classic C error of mistaking an assignment operator = for an equality operator == in conditions: if (c = 1) { ... } is syntactically valid (but probably unintended) C code but if c = 1: ... causes a syntax error in Python.\n",
      "\n",
      "\n",
      "=== Methods ===\n",
      "Methods on objects are functions attached to the object's class; the syntax instance.method(argument) is, for normal methods and functions, syntactic sugar for Class.method(instance, argument). Python methods have an explicit self parameter to access instance data, in contrast to the implicit self (or this) in some other object-oriented programming languages (e.g., C++, Java, Objective-C, or Ruby).\n",
      "\n",
      "\n",
      "=== Typing ===\n",
      "\n",
      "Python uses duck typing and has typed objects but untyped variable names. Type constraints are not checked at compile time; rather, operations on an object may fail, signifying that the given object is not of a suitable type. Despite being dynamically typed, Python is strongly typed, forbidding operations that are not well-defined (for example, adding a number to a string) rather than silently attempting to make sense of them.\n",
      "Python allows programmers to define their own types using classes, which are most often used for object-oriented programming. New instances of classes are constructed by calling the class (for example, SpamClass() or EggsClass()), and the classes are instances of the metaclass type (itself an instance of itself), allowing metaprogramming and reflection.\n",
      "Before version 3.0, Python had two kinds of classes: old-style and new-style. The syntax of both styles is the same, the difference being whether the class object is inherited from, directly or indirectly (all new-style classes inherit from object and are instances of type). In versions of Python 2 from Python 2.2 onwards, both kinds of classes can be used. Old-style classes were eliminated in Python 3.0.\n",
      "The long term plan is to support gradual typing and from Python 3.5, the syntax of the language allows specifying static types but they are not checked in the default implementation, CPython. An experimental optional static type checker named mypy supports compile-time type checking.\n",
      "^a Not directly accessible by name. \n",
      "\n",
      "\n",
      "=== Mathematics ===\n",
      "Python has the usual C language arithmetic operators (+, -, *, /, %). It also has ** for exponentiation, e.g. 5**3 == 125 and 9**0.5 == 3.0, and a new matrix multiply @ operator is included in version 3.5. Additionally, it has a unary operator (~), which essentially inverts all the bits of its one argument. For integers, this means ~x=-x-1. Other operators include bitwise shift operators x << y, which shifts x to the left y places, the same as x*(2**y) , and x >> y, which shifts x to the right y places, the same as x//(2**y) .The behavior of division has changed significantly over time so that division between integers produces accurate floating point results:\n",
      "Python 2.1 and earlier use the C division behavior. The / operator is integer division if both operands are integers, and floating-point division otherwise. Integer division rounds towards 0, e.g. 7/3 == 2 and -7/3 == -2.\n",
      "Python 2.2 changes integer division to round towards negative infinity, e.g. 7/3 == 2 and -7/3 == -3. The floor division // operator is introduced. So 7//3 == 2, -7//3 == -3, 7.5//3 == 2.0 and -7.5//3 == -3.0. Adding from __future__ import division causes a module to use Python 3.0 rules for division (see next).\n",
      "Python 3.0 changes / to always be floating-point division, e.g. 5/2 == 2.5. In Python terms, the pre-3.0 / is classic division, the version-3.0 / is true division, and // is floor division.Rounding towards negative infinity, though different from most languages, adds consistency. For instance, it means that the equation (a + b)//b == a//b + 1 is always true. It also means that the equation b*(a//b) + a%b == a is valid for both positive and negative values of a. However, maintaining the validity of this equation means that while the result of a%b is, as expected, in the half-open interval [0, b), where b is a positive integer, it has to lie in the interval (b, 0] when b is negative.Python provides a round function for rounding a float to the nearest integer. For tie-breaking, versions before 3 use round-away-from-zero: round(0.5) is 1.0, round(-0.5) is −1.0. Python 3 uses round to even: round(1.5) is 2, round(2.5) is 2.Python allows boolean expressions with multiple equality relations in a manner that is consistent with general use in mathematics. For example, the expression a < b < c tests whether a is less than b and b is less than c.  C-derived languages interpret this expression differently: in C, the expression would first evaluate a < b, resulting in 0 or 1, and that result would then be compared with c.Python has extensive built-in support for arbitrary precision arithmetic. Integers are transparently switched from the machine-supported maximum fixed-precision (usually 32 or 64 bits), belonging to the python type int, to arbitrary precision, belonging to the Python type long, where needed. The latter have an \"L\" suffix in their textual representation. (In Python 3, the distinction between the int and long types was eliminated; this behavior is now entirely contained by the int class.) The Decimal type/class in module decimal (since version 2.4) provides decimal floating point numbers to arbitrary precision and several rounding modes. The Fraction type in module fractions (since version 2.6) provides arbitrary precision for rational numbers.Due to Python's extensive mathematics library, and the third-party library NumPy that further extends the native capabilities, it is frequently used as a scientific scripting language to aid in problems such as numerical data processing and manipulation.\n",
      "\n",
      "\n",
      "== Libraries ==\n",
      "Python's large standard library, commonly cited as one of its greatest strengths, provides tools suited to many tasks. For Internet-facing applications, many standard formats and protocols such as MIME and HTTP are supported. It includes modules for creating graphical user interfaces, connecting to relational databases, generating pseudorandom numbers, arithmetic with arbitrary precision decimals, manipulating regular expressions, and unit testing.\n",
      "Some parts of the standard library are covered by specifications (for example, the Web Server Gateway Interface (WSGI) implementation wsgiref follows PEP 333), but most modules are not. They are specified by their code, internal documentation, and test suites (if supplied). However, because most of the standard library is cross-platform Python code, only a few modules need altering or rewriting for variant implementations.\n",
      "As of March 2018, the Python Package Index (PyPI), the official repository for third-party Python software, contains over 130,000 packages with a wide range of functionality, including:\n",
      "\n",
      "Graphical user interfaces\n",
      "Web frameworks\n",
      "Multimedia\n",
      "Databases\n",
      "Networking\n",
      "Test frameworks\n",
      "Automation\n",
      "Web scraping\n",
      "Documentation\n",
      "System administration\n",
      "Scientific computing\n",
      "Text processing\n",
      "Image processing\n",
      "\n",
      "\n",
      "== Development environments ==\n",
      "\n",
      "Most Python implementations (including CPython) include a read–eval–print loop (REPL), permitting them to function as a command line interpreter for which the user enters statements sequentially and receives results immediately.\n",
      "Other shells, including IDLE and IPython, add further abilities such as auto-completion, session state retention and syntax highlighting.\n",
      "As well as standard desktop integrated development environments, there are Web browser-based IDEs; SageMath (intended for developing science and math-related Python programs); PythonAnywhere, a browser-based IDE and hosting environment; and Canopy IDE, a commercial Python IDE emphasizing scientific computing.\n",
      "\n",
      "\n",
      "== Implementations ==\n",
      "\n",
      "\n",
      "=== Reference implementation ===\n",
      "CPython is the reference implementation of Python. It is written in C, meeting the C89 standard with several select C99 features. It compiles Python programs into an intermediate bytecode which is then executed by its virtual machine. CPython is distributed with a large standard library written in a mixture of C and native Python. It is available for many platforms, including Windows and most modern Unix-like systems. Platform portability was one of its earliest priorities.\n",
      "\n",
      "\n",
      "=== Other implementations ===\n",
      "PyPy is a fast, compliant interpreter of Python 2.7 and 3.5. Its just-in-time compiler brings a significant speed improvement over CPython.Stackless Python is a significant fork of CPython that implements microthreads; it does not use the C memory stack, thus allowing massively concurrent programs. PyPy also has a stackless version.MicroPython and CircuitPython are Python 3 variants optimised for microcontrollers. This includes Lego Mindstorms EV3.\n",
      "\n",
      "\n",
      "=== Unsupported implementations ===\n",
      "Other just-in-time Python compilers have been developed, but are now unsupported:\n",
      "\n",
      "Google began a project named Unladen Swallow in 2009 with the aim of speeding up the Python interpreter fivefold by using the LLVM, and of improving its multithreading ability to scale to thousands of cores.\n",
      "Psyco is a just-in-time specialising compiler that integrates with CPython and transforms bytecode to machine code at runtime. The emitted code is specialised for certain data types and is faster than standard Python code.In 2005, Nokia released a Python interpreter for the Series 60 mobile phones named PyS60. It includes many of the modules from the CPython implementations and some additional modules to integrate with the Symbian operating system. The project has been kept up-to-date to run on all variants of the S60 platform, and several third-party modules are available. The Nokia N900 also supports Python with GTK widget libraries, enabling programs to be written and run on the target device.\n",
      "\n",
      "\n",
      "=== Cross-compilers to other languages ===\n",
      "There are several compilers to high-level object languages, with either unrestricted Python, a restricted subset of Python, or a language similar to Python as the source language:\n",
      "\n",
      "Jython compiles into Java byte code, which can then be executed by every Java virtual machine implementation. This also enables the use of Java class library functions from the Python program.\n",
      "IronPython follows a similar approach in order to run Python programs on the .NET Common Language Runtime.\n",
      "The RPython language can be compiled to C, Java bytecode, or Common Intermediate Language, and is used to build the PyPy interpreter of Python.\n",
      "Pyjs compiles Python to JavaScript.\n",
      "Cython compiles Python to C and C++.\n",
      "Numba uses LLVM to compile Python to machine code.\n",
      "Pythran compiles Python to C++.\n",
      "Somewhat dated Pyrex (latest release in 2010) and Shed Skin (latest release in 2013) compile to C and C++ respectively.\n",
      "Google's Grumpy compiles Python to Go.\n",
      "MyHDL compiles Python to VHDL.\n",
      "Nuitka compiles Python into C++.\n",
      "\n",
      "\n",
      "=== Performance ===\n",
      "A performance comparison of various Python implementations on a non-numerical (combinatorial) workload was presented at EuroSciPy '13.\n",
      "\n",
      "\n",
      "== Development ==\n",
      "Python's development is conducted largely through the Python Enhancement Proposal (PEP) process, the primary mechanism for proposing major new features, collecting community input on issues and documenting Python design decisions. Python coding style is covered in PEP 8. Outstanding PEPs are reviewed and commented on by the Python community and the steering council.Enhancement of the language corresponds with development of the CPython reference implementation. The mailing list python-dev is the primary forum for the language's development. Specific issues are discussed in the Roundup bug tracker maintained at python.org. Development originally took place on a self-hosted source-code repository running Mercurial, until Python moved to GitHub in January 2017.CPython's public releases come in three types, distinguished by which part of the version number is incremented:\n",
      "\n",
      "Backward-incompatible versions, where code is expected to break and need to be manually ported. The first part of the version number is incremented. These releases happen infrequently—for example, version 3.0 was released 8 years after 2.0.\n",
      "Major or \"feature\" releases, about every 18 months, are largely compatible but introduce new features. The second part of the version number is incremented. Each major version is supported by bugfixes for several years after its release.\n",
      "Bugfix releases, which introduce no new features, occur about every 3 months and are made when a sufficient number of bugs have been fixed upstream since the last release. Security vulnerabilities are also patched in these releases. The third and final part of the version number is incremented.Many alpha, beta, and release-candidates are also released as previews and for testing before final releases. Although there is a rough schedule for each release, they are often delayed if the code is not ready. Python's development team monitors the state of the code by running the large unit test suite during development, and using the BuildBot continuous integration system.The community of Python developers has also contributed over 86,000 software modules (as of 20 August 2016) to the Python Package Index (PyPI), the official repository of third-party Python libraries.\n",
      "The major academic conference on Python is PyCon. There are also special Python mentoring programmes, such as Pyladies.\n",
      "\n",
      "\n",
      "== Naming ==\n",
      "Python's name is derived from the British comedy group Monty Python, whom Python creator Guido van Rossum enjoyed while developing the language. Monty Python references appear frequently in Python code and culture; for example, the metasyntactic variables often used in Python literature are spam and eggs instead of the traditional foo and bar. The official Python documentation also contains various references to Monty Python routines.The prefix Py- is used to show that something is related to Python. Examples of the use of this prefix in names of Python applications or libraries include Pygame, a binding of SDL to Python (commonly used to create games); PyQt and PyGTK, which bind Qt and GTK to Python respectively; and PyPy, a Python implementation originally written in Python.\n",
      "\n",
      "\n",
      "== API documentation generators ==\n",
      "Python API documentation generators include:\n",
      "\n",
      "Sphinx\n",
      "Epydoc\n",
      "HeaderDoc\n",
      "pydoc\n",
      "\n",
      "\n",
      "== Uses ==\n",
      "\n",
      "Since 2003, Python has consistently ranked in the top ten most popular programming languages in the TIOBE Programming Community Index where, as of December 2018, it is the third most popular language (behind Java, and C). It was selected Programming Language of the Year in 2007, 2010, and 2018.An empirical study found that scripting languages, such as Python, are more productive than conventional languages, such as C and Java, for programming problems involving string manipulation and search in a dictionary, and determined that memory consumption was often \"better than Java and not much worse than C or C++\".Large organizations that use Python include Wikipedia, Google, Yahoo!, CERN, NASA, Facebook, Amazon, Instagram, Spotify and some smaller entities like ILM and ITA. The social news networking site Reddit is written entirely in Python.Python can serve as a scripting language for web applications, e.g., via mod_wsgi for the Apache web server. With Web Server Gateway Interface, a standard API has evolved to facilitate these applications. Web frameworks like Django, Pylons, Pyramid, TurboGears, web2py, Tornado, Flask, Bottle and Zope support developers in the design and maintenance of complex applications. Pyjs and IronPython can be used to develop the client-side of Ajax-based applications. SQLAlchemy can be used as data mapper to a relational database. Twisted is a framework to program communications between computers, and is used (for example) by Dropbox.\n",
      "Libraries such as NumPy, SciPy and Matplotlib allow the effective use of Python in scientific computing, with specialized libraries such as Biopython and Astropy providing domain-specific functionality. SageMath is a mathematical software with a notebook interface programmable in Python: its library covers many aspects of mathematics, including algebra, combinatorics, numerical mathematics, number theory, and calculus.\n",
      "Python has been successfully embedded in many software products as a scripting language, including in finite element method software such as Abaqus, 3D parametric modeler like FreeCAD, 3D animation packages such as 3ds Max, Blender, Cinema 4D, Lightwave, Houdini, Maya, modo, MotionBuilder, Softimage, the visual effects compositor Nuke, 2D imaging programs like GIMP, Inkscape, Scribus and Paint Shop Pro, and musical notation programs like scorewriter and capella. GNU Debugger uses Python as a pretty printer to show complex structures such as C++ containers. Esri promotes Python as the best choice for writing scripts in ArcGIS. It has also been used in several video games, and has been adopted as first of the three available programming languages in Google App Engine, the other two being Java and Go.Python is commonly used in artificial intelligence projects with the help of libraries like TensorFlow, Keras and Scikit-learn. As a scripting language with modular architecture, simple syntax and rich text processing tools, Python is often used for natural language processing.Many operating systems include Python as a standard component. It ships with most Linux distributions, AmigaOS 4, FreeBSD (as a package), NetBSD, OpenBSD (as a package) and macOS and can be used from the command line (terminal). Many Linux distributions use installers written in Python: Ubuntu uses the Ubiquity installer, while Red Hat Linux and Fedora use the Anaconda installer. Gentoo Linux uses Python in its package management system, Portage.\n",
      "Python is used extensively in the information security industry, including in exploit development.Most of the Sugar software for the One Laptop per Child XO, now developed at Sugar Labs, is written in Python. The Raspberry Pi single-board computer project has adopted Python as its main user-programming language.\n",
      "LibreOffice includes Python, and intends to replace Java with Python. Its Python Scripting Provider is a core feature since Version 4.0 from 7 February 2013.\n",
      "\n",
      "\n",
      "== Languages influenced by Python ==\n",
      "Python's design and philosophy have influenced many other programming languages:\n",
      "\n",
      "Boo uses indentation, a similar syntax, and a similar object model.\n",
      "Cobra uses indentation and a similar syntax, and its \"Acknowledgements\" document lists Python first among languages that influenced it. However, Cobra directly supports design-by-contract, unit tests, and optional static typing.\n",
      "CoffeeScript, a programming language that cross-compiles to JavaScript, has Python-inspired syntax.\n",
      "ECMAScript borrowed iterators and generators from Python.\n",
      "Go is designed for the \"speed of working in a dynamic language like Python\" and shares the same syntax for slicing arrays.\n",
      "Groovy was motivated by the desire to bring the Python design philosophy to Java.\n",
      "Julia was designed \"with true macros [.. and to be] as usable for general programming as Python [and] should be as fast as C\". Calling to or from Julia is possible; to with PyCall.jl and a Python package pyjulia allows calling, in the other direction, from Python.\n",
      "Kotlin is a functional programming language with an interactive shell similar to Python. However, Kotlin is strongly typed with access to standard Java libraries.\n",
      "Ruby's creator, Yukihiro Matsumoto, has said: \"I wanted a scripting language that was more powerful than Perl, and more object-oriented than Python. That's why I decided to design my own language.\"\n",
      "Swift, a programming language developed by Apple, has some Python-inspired syntax.\n",
      "GDScript, dynamically typed programming language used to create video-games. It is extremely similar to Python with a few minor differences.Python's development practices have also been emulated by other languages. For example, the practice of requiring a document describing the rationale for, and issues surrounding, a change to the language (in Python, a PEP) is also used in Tcl and Erlang.Python received TIOBE's Programming Language of the Year awards in 2007, 2010 and 2018. The award is given to the language with the greatest growth in popularity over the year, as measured by the TIOBE index.\n",
      "\n",
      "\n",
      "== See also ==\n",
      "\n",
      "Comparison of programming languages\n",
      "List of programming languages\n",
      "pip (package manager)\n",
      "\n",
      "\n",
      "== References ==\n",
      "\n",
      "\n",
      "=== Sources ===\n",
      "\"Python for Artificial Intelligence\". Wiki.python.org. 19 July 2012. Archived from the original on 1 November 2012. Retrieved 3 December 2012.\n",
      "Paine, Jocelyn, ed. (August 2005). \"AI in Python\". AI Expert Newsletter. Amzi!. Retrieved 11 February 2012.\n",
      "\"PyAIML 0.8.5 : Python Package Index\". Pypi.python.org. Retrieved 17 July 2013.\n",
      "Russell, Stuart J. & Norvig, Peter (2009). Artificial Intelligence: A Modern Approach (3rd ed.). Upper Saddle River, NJ: Prentice Hall. ISBN 978-0-13-604259-4.\n",
      "\n",
      "\n",
      "== Further reading ==\n",
      "Downey, Allen B. (May 2012). Think Python: How to Think Like a Computer Scientist (Version 1.6.6 ed.). ISBN 978-0-521-72596-5.\n",
      "Hamilton, Naomi (5 August 2008). \"The A-Z of Programming Languages: Python\". Computerworld. Archived from the original on 29 December 2008. Retrieved 31 March 2010.\n",
      "Lutz, Mark (2013). Learning Python (5th ed.). O'Reilly Media. ISBN 978-0-596-15806-4.\n",
      "Pilgrim, Mark (2004). Dive Into Python. Apress. ISBN 978-1-59059-356-1.\n",
      "Pilgrim, Mark (2009). Dive Into Python 3. Apress. ISBN 978-1-4302-2415-0.\n",
      "Summerfield, Mark (2009). Programming in Python 3 (2nd ed.). Addison-Wesley Professional. ISBN 978-0-321-68056-3.\n",
      "\n",
      "\n",
      "== External links ==\n",
      "\n",
      "Official website \n",
      "Python (programming language) at Curlie\n"
     ]
    }
   ],
   "source": [
    "print(wikipedia.page(\"Python\").content)"
   ]
  },
  {
   "cell_type": "code",
   "execution_count": 6,
   "metadata": {},
   "outputs": [
    {
     "name": "stdout",
     "output_type": "stream",
     "text": [
      "Ubuntu ( (listen)) is a free and open-source Linux distribution based on Debian. Ubuntu is officially released in three editions: Desktop, Server, and Core (for internet of things devices and robots).\n"
     ]
    }
   ],
   "source": [
    "print(wikipedia.summary(\"Ubuntu\", sentences=2))"
   ]
  },
  {
   "cell_type": "code",
   "execution_count": 7,
   "metadata": {},
   "outputs": [
    {
     "name": "stdout",
     "output_type": "stream",
     "text": [
      "Ubuntu ( (listen)) is a free and open-source Linux distribution based on Debian. Ubuntu is officially released in three editions: Desktop, Server, and Core (for internet of things devices and robots). All the editions can run on the computer alone, or e.g. in Windows. Ubuntu is a popular operating system for cloud computing, with support for OpenStack.Ubuntu is released every six months, with long-term support (LTS) releases every two years. The latest release is 19.04 (\"Disco Dingo\"), and the most recent long-term support release is 18.04 LTS (\"Bionic Beaver\"), which is supported until 2023 under public support and until 2028 as a paid option.Ubuntu is developed by Canonical and the community under a meritocratic governance model. Canonical provides security updates and support for each Ubuntu release, starting from the release date and until the release reaches its designated end-of-life (EOL) date. Canonical generates revenue through the sale of premium services related to Ubuntu.Ubuntu is named after the African philosophy of ubuntu, which Canonical translates as \"humanity to others\" or \"I am what I am because of who we all are\".\n"
     ]
    }
   ],
   "source": [
    "print(wikipedia.summary(\"Ubuntu\"))"
   ]
  },
  {
   "cell_type": "code",
   "execution_count": 8,
   "metadata": {},
   "outputs": [
    {
     "name": "stdout",
     "output_type": "stream",
     "text": [
      "https://en.wikipedia.org/wiki/Python_(programming_language)\n"
     ]
    }
   ],
   "source": [
    "print(wikipedia.page(\"Python\").url)"
   ]
  },
  {
   "cell_type": "code",
   "execution_count": 9,
   "metadata": {},
   "outputs": [
    {
     "name": "stdout",
     "output_type": "stream",
     "text": [
      "Url: {}\n",
      "References: {}\n",
      "Title: {}\n",
      "Categories: https://en.wikipedia.org/wiki/Python_(programming_language)\n"
     ]
    }
   ],
   "source": [
    "print(  \"Url: {}\\n\" +\n",
    "        \"References: {}\\n\" +\n",
    "        \"Title: {}\\n\" +\n",
    "        \"Categories: {}\".format(wikipedia.page(\"Python\").url, wikipedia.page(\"Python\").references, wikipedia.page(\"Python\").title, wikipedia.page(\"Python\").categories))"
   ]
  },
  {
   "cell_type": "code",
   "execution_count": 12,
   "metadata": {},
   "outputs": [
    {
     "name": "stdout",
     "output_type": "stream",
     "text": [
      "Url: https://en.wikipedia.org/wiki/Python_(programming_language)\n",
      "\n",
      "References: ['http://www.computerworld.com.au/index.php/id;66665771', 'http://neopythonic.blogspot.be/2009/04/tail-recursion-elimination.html', 'http://www.amk.ca/python/writing/gvr-interview', 'http://cdsweb.cern.ch/journal/CERNBulletin/2006/31/News%20Articles/974627?ln=en', 'http://www.2ality.com/2013/02/javascript-influences.html', 'http://www.2kgames.com/civ4/blog_03.htm', 'http://www.ainewsletter.com/newsletters/aix_0508.htm#python_ai_ai', 'http://www.artima.com/intv/pythonP.html', 'http://www.artima.com/weblogs/viewpost.jsp?thread=147358', 'http://cobra-language.com/docs/acknowledgements/', 'http://cobra-language.com/docs/python/', 'http://oss.coresecurity.com/', 'http://ebeab.com/2014/01/21/python-culture/', 'http://webhelp.esri.com/arcgisdesktop/9.2/index.cfm?TopicName=About_getting_started_with_writing_geoprocessing_scripts', 'http://community.eveonline.com/news/dev-blogs/stackless-python-2.7/', 'http://www.eweek.com/c/a/Application-Development/Python-Slithers-into-Systems/', 'http://www.immunitysec.com/products-immdbg.shtml', 'http://www.jasc.com/support/customercare/articles/psp9components.asp', 'http://www.linuxdevcenter.com/pub/a/linux/2001/11/29/ruby.html', 'http://www.modulecounts.com/', 'http://www.modulecounts.com/#', 'http://www.oracle.com/technetwork/articles/piotrowski-pythoncore-084049.html', 'http://shop.oreilly.com/product/9780596007973.do', 'http://www.oreilly.com/pub/a/oreilly/frank/rossum_1099.html', 'http://speakingjs.com/es5/ch03.html', 'http://www.tiobe.com/index.php/content/paperinfo/tpci/', 'http://www.tiobe.com/index.php/paperinfo/tpci/Python.html', 'http://www.tiobe.com/tiobe-index/', 'http://w3techs.com/technologies/details/pl-python/all/all', 'http://radio.weblogs.com/0112098/2003/08/29.html', 'http://page.mi.fu-berlin.de/prechelt/Biblio/jccpprt_computer2000.pdf', 'http://www.secnetix.de/~olli/Python/block_indentation.hawk', 'http://adsabs.harvard.edu/abs/2014arXiv1404.6388M', 'http://citeseerx.ist.psu.edu/viewdoc/summary?doi=10.1.1.38.2023', 'http://citeseerx.ist.psu.edu/viewdoc/summary?doi=10.1.1.474.6460', 'http://www.troeger.eu/teaching/pythonvm08.pdf', 'http://www.stochasticgeometry.ie/2010/04/29/python-on-the-nokia-n900/', 'http://nuitka.net/', 'http://python.net/crew/mwh/hacks/objectthink.html', 'http://python.net/~goodger/projects/pycon/2007/idiomatic/handout.html', 'http://gimp-win.sourceforge.net/faq.html', 'http://ring-lang.sourceforge.net/doc1.6/introduction.html#ring-and-other-languages', 'http://www.wayforward.net/pycontract/', 'http://arxiv.org/abs/1404.6388', 'http://boo.codehaus.org/Gotchas+for+Python+Users', 'http://www.computer.org/csdl/mags/cs/2011/02/mcs2011020009.html', 'http://doi.org/10.1109%2FMCSE.2007.58', 'http://doi.org/10.1109%2FMCSE.2011.36', 'http://wiki.ecmascript.org/doku.php?id=proposals:iterators_and_generators', 'http://effbot.org/zone/call-by-object.htm', 'http://www.erlang.org/eeps/eep-0001.html', 'http://www.libreoffice.org/download/4-0-new-features-and-fixes/', 'http://mypy-lang.org/', 'http://www.nltk.org', 'http://nondot.org/sabre', 'http://nondot.org/sabre/', 'http://www.nongnu.org/pydbc/', 'http://doc.pypy.org/en/latest/stackless.html', 'http://speed.pypy.org/', 'http://sugarlabs.org/go/Sugar', 'http://download.tensorflow.org/paper/whitepaper2015.pdf', 'http://www.tcl.tk/cgi-bin/tct/tip/3.html', 'https://docs.bazel.build/versions/master/skylark/language.html', 'https://python-history.blogspot.com/2009/01/brief-timeline-of-python.html', 'https://python-history.blogspot.com/2010/08/why-pythons-integer-division-floors.html', 'https://www.enthought.com/products/canopy/', 'https://developers.facebook.com/blog/post/301', 'https://github.com/reddit-archive/reddit', 'https://books.google.com/books?id=1HxWGezDZcgC&pg=PA17', 'https://books.google.com/books?id=carqdIdfVlYC&pg=PR15', 'https://code.google.com/apis/documents/docs/1.0/developers_guide_python.html', 'https://code.google.com/p/unladen-swallow/wiki/ProjectPlan', 'https://sites.google.com/site/pydatalog/', 'https://cloudplatform.googleblog.com/2016/05/Google-supercharges-machine-learning-tasks-with-custom-chip.html', 'https://opensource.googleblog.com/2017/01/grumpy-go-running-python.html', 'https://www.h2desk.com/blog/python-scientific-computing/', 'https://instagram-engineering.com/what-powers-instagram-hundreds-of-instances-dozens-of-technologies-adf2e22da2ad', 'https://inventwithpython.com/appendixa.html', 'https://www.kdnuggets.com/2018/05/poll-tools-analytics-data-science-machine-learning-results.html/2', 'https://education.lego.com/en-us/support/mindstorms-ev3/python-for-ev3', 'https://likegeeks.com/python-web-scraping/', 'https://www.linuxjournal.com/content/guido-van-rossum-stepping-down-role-pythons-benevolent-dictator-life', 'https://insidetech.monster.com/training/articles/8114-15-ways-python-is-a-powerful-force-on-the-web', 'https://docs.oracle.com/javase/specs/jls/se8/html/jls-15.html#jls-15.21.1', 'https://docs.oracle.com/javase/specs/jls/se8/html/jls-15.html#jls-15.21.3', 'https://labs.spotify.com/2013/03/20/how-we-use-python-at-spotify/', 'https://stackoverflow.com/questions/5033906/in-python-should-i-use-else-after-a-return-in-an-if-block', 'https://stackoverflow.com/questions/8305199/the-tilde-operator-in-python', 'https://techcrunch.com/2009/11/10/google-go-language/', 'https://engineering.ucsb.edu/~shell/che210d/python.pdf', 'https://www.stat.washington.edu/~hoytak/blog/whypython.html', 'https://catalogue.bnf.fr/ark:/12148/cb13560465c', 'https://data.bnf.fr/ark:/12148/cb13560465c', 'https://www.idref.fr/051626225', 'https://id.loc.gov/authorities/subjects/sh96008834', 'https://d-nb.info/gnd/4434275-5', 'https://lwn.net/Articles/627418/', 'https://www.theinquirer.net/inquirer/news/3035842/python-boss-guido-van-rossum-steps-down-after-30-years', 'https://web.archive.org/web/20070501105422/http://www.amk.ca/python/writing/gvr-interview', 'https://web.archive.org/web/20071020082650/http://wiki.ecmascript.org/doku.php?id=proposals:iterators_and_generators', 'https://web.archive.org/web/20080319061519/http://www.jasc.com/support/customercare/articles/psp9components.asp', 'https://web.archive.org/web/20081211062108/http://boo.codehaus.org/Gotchas+for+Python+Users', 'https://web.archive.org/web/20081229095320/http://www.computerworld.com.au/index.php/id;66665771', 'https://web.archive.org/web/20090216134332/http://immunitysec.com/products-immdbg.shtml', 'https://web.archive.org/web/20090601134342/http://www.python.org/dev/intro/', 'https://web.archive.org/web/20120623165941/http://cutter.rexx.com/~dkuhlman/python_book_01.html', 'https://web.archive.org/web/20121101045354/http://wiki.python.org/moin/PythonForArtificialIntelligence', 'https://web.archive.org/web/20130717070814/http://gimp-win.sourceforge.net/faq.html', 'https://coffeescript.org/', 'https://curlie.org/Computers/Programming/Languages/Python', 'https://www.davekuhlman.org/python_book_01.pdf', 'https://wiki.gnome.org/action/show/Projects/Genie', 'https://julialang.org/blog/2012/02/why-we-created-julia', 'https://kotlinlang.org/docs/tutorials/command-line.html', 'https://pypy.org/compat.html', 'https://blog.python.org/2019/03/python-2716-released.html', 'https://docs.python.org', 'https://docs.python.org/2.6/whatsnew/2.6.html', 'https://docs.python.org/2.7/library/stdtypes.html', 'https://docs.python.org/2/faq/general.html#why-is-it-called-python', 'https://docs.python.org/2/library/pprint.html', 'https://docs.python.org/3.0/reference/datamodel.html#special-method-names', 'https://docs.python.org/3.2/tutorial/controlflow.html', 'https://docs.python.org/3/library/2to3.html', 'https://docs.python.org/3/library/dis.html#python-bytecode-instructions', 'https://docs.python.org/3/library/itertools.html', 'https://docs.python.org/3/library/stdtypes.html#tuple', 'https://docs.python.org/3/license.html', 'https://docs.python.org/3/tutorial/datastructures.html#tuples-and-sequences', 'https://docs.python.org/devguide/', 'https://docs.python.org/faq/design.html#why-must-self-be-used-explicitly-in-method-definitions-and-calls', 'https://docs.python.org/faq/general.html#is-python-a-good-language-for-beginning-programmers', 'https://docs.python.org/faq/general.html#why-was-python-created-in-the-first-place', 'https://docs.python.org/howto/functional.html', 'https://docs.python.org/library/functions.html#round', 'https://docs.python.org/py3k/library/functions.html#round', 'https://docs.python.org/reference/datamodel.html#new-style-and-classic-classes', 'https://docs.python.org/tutorial/appetite.html', 'https://docs.python.org/tutorial/classes.html', 'https://docs.python.org/whatsnew/2.0.html', 'https://legacy.python.org/dev/peps/pep-0373/', 'https://legacy.python.org/dev/peps/pep-0465/', 'https://mail.python.org/pipermail/python-dev/2000-August/008881.html', 'https://mail.python.org/pipermail/python-dev/2002-April/022739.html', 'https://pypi.python.org/pypi/PyAIML', 'https://wiki.python.org/moin/BitwiseOperators', 'https://wiki.python.org/moin/OrganizationsUsingPython', 'https://wiki.python.org/moin/PythonForArtificialIntelligence', 'https://www.python.org/', 'https://www.python.org/about', 'https://www.python.org/about/quotes/', 'https://www.python.org/about/success/ilm/', 'https://www.python.org/about/success/usa/', 'https://www.python.org/community/pycon/dc2004/papers/24/metaclasses-pycon.pdf', 'https://www.python.org/dev/buildbot/', 'https://www.python.org/dev/intro/', 'https://www.python.org/dev/peps/pep-0001/', 'https://www.python.org/dev/peps/pep-0006/', 'https://www.python.org/dev/peps/pep-0007/', 'https://www.python.org/dev/peps/pep-0008/', 'https://www.python.org/dev/peps/pep-0020/', 'https://www.python.org/dev/peps/pep-0237/', 'https://www.python.org/dev/peps/pep-0238/', 'https://www.python.org/dev/peps/pep-0255/', 'https://www.python.org/dev/peps/pep-0289/', 'https://www.python.org/dev/peps/pep-0308/', 'https://www.python.org/dev/peps/pep-0318/', 'https://www.python.org/dev/peps/pep-0327/', 'https://www.python.org/dev/peps/pep-0333/', 'https://www.python.org/dev/peps/pep-0342/', 'https://www.python.org/dev/peps/pep-0380/', 'https://www.python.org/dev/peps/pep-0441/', 'https://www.python.org/dev/peps/pep-0465/', 'https://www.python.org/dev/peps/pep-0466/', 'https://www.python.org/dev/peps/pep-0483/', 'https://www.python.org/dev/peps/pep-0488/', 'https://www.python.org/dev/peps/pep-0498/', 'https://www.python.org/dev/peps/pep-3000/', 'https://www.python.org/dev/peps/pep-8100/', 'https://www.python.org/download/releases/2.3/mro/', 'https://www.python.org/download/releases/2.5/', 'https://www.python.org/download/releases/2.5/highlights/', 'https://www.python.org/download/releases/3.0/', 'https://www.python.org/downloads/release/python-351/', 'https://www.python.org/downloads/release/python-373/', 'https://scikit-learn.org/stable/testimonials/testimonials.html', 'https://www.webcitation.org/5lubkaJRc?url=http://www.python.org/community/pycon/dc2004/papers/24/metaclasses-pycon.pdf', 'https://www.webcitation.org/5ru5FHxfV?url=http://code.google.com/apis/documents/docs/1.0/developers_guide_python.html', 'https://www.webcitation.org/5ru5VItfv?url=http://www.2kgames.com/civ4/blog_03.htm', 'https://www.wikidata.org/wiki/Q28865', 'https://www.wikidata.org/wiki/Q28865#P856']\n",
      "\n",
      "Title: Python (programming language)\n",
      "\n",
      "Categories: ['All articles containing potentially dated statements', 'Articles containing potentially dated statements from August 2016', 'Articles containing potentially dated statements from December 2018', 'Articles containing potentially dated statements from March 2018', 'Articles with Curlie links', 'Articles with short description', 'Class-based programming languages', 'Computational notebook', 'Computer science in the Netherlands', 'Cross-platform free software', 'Cross-platform software', 'Dutch inventions', 'Dynamically typed programming languages', 'Educational programming languages', 'Good articles', 'High-level programming languages', 'Information technology in the Netherlands', 'Object-oriented programming languages', 'Pages with citations having bare URLs', 'Pages with citations lacking titles', 'Programming languages', 'Programming languages created in 1991', 'Python (programming language)', 'Scripting languages', 'Text-oriented programming languages', 'Use dmy dates from August 2015', 'Wikipedia articles with BNF identifiers', 'Wikipedia articles with GND identifiers', 'Wikipedia articles with LCCN identifiers', 'Wikipedia articles with SUDOC identifiers']\n"
     ]
    }
   ],
   "source": [
    "print(  \"Url: {}\\n\\nReferences: {}\\n\\nTitle: {}\\n\\nCategories: {}\".format(wikipedia.page(\"Python\").url, wikipedia.page(\"Python\").references, wikipedia.page(\"Python\").title, wikipedia.page(\"Python\").categories))"
   ]
  },
  {
   "cell_type": "code",
   "execution_count": 13,
   "metadata": {},
   "outputs": [
    {
     "ename": "PageError",
     "evalue": "Page id \"46.0510539\" does not match any pages. Try another id!",
     "output_type": "error",
     "traceback": [
      "\u001b[0;31m---------------------------------------------------------------------------\u001b[0m",
      "\u001b[0;31mIndexError\u001b[0m                                Traceback (most recent call last)",
      "\u001b[0;32m/usr/lib/python3.6/site-packages/wikipedia/wikipedia.py\u001b[0m in \u001b[0;36mpage\u001b[0;34m(title, pageid, auto_suggest, redirect, preload)\u001b[0m\n\u001b[1;32m    271\u001b[0m       \u001b[0;32mtry\u001b[0m\u001b[0;34m:\u001b[0m\u001b[0;34m\u001b[0m\u001b[0m\n\u001b[0;32m--> 272\u001b[0;31m         \u001b[0mtitle\u001b[0m \u001b[0;34m=\u001b[0m \u001b[0msuggestion\u001b[0m \u001b[0;32mor\u001b[0m \u001b[0mresults\u001b[0m\u001b[0;34m[\u001b[0m\u001b[0;36m0\u001b[0m\u001b[0;34m]\u001b[0m\u001b[0;34m\u001b[0m\u001b[0m\n\u001b[0m\u001b[1;32m    273\u001b[0m       \u001b[0;32mexcept\u001b[0m \u001b[0mIndexError\u001b[0m\u001b[0;34m:\u001b[0m\u001b[0;34m\u001b[0m\u001b[0m\n",
      "\u001b[0;31mIndexError\u001b[0m: list index out of range",
      "\nDuring handling of the above exception, another exception occurred:\n",
      "\u001b[0;31mPageError\u001b[0m                                 Traceback (most recent call last)",
      "\u001b[0;32m<ipython-input-13-2a58890dd565>\u001b[0m in \u001b[0;36m<module>\u001b[0;34m\u001b[0m\n\u001b[0;32m----> 1\u001b[0;31m \u001b[0mprint\u001b[0m\u001b[0;34m(\u001b[0m\u001b[0mwikipedia\u001b[0m\u001b[0;34m.\u001b[0m\u001b[0mpage\u001b[0m\u001b[0;34m(\u001b[0m\u001b[0;36m46.0510539\u001b[0m\u001b[0;34m,\u001b[0m \u001b[0;36m14.4993315\u001b[0m\u001b[0;34m)\u001b[0m\u001b[0;34m)\u001b[0m\u001b[0;34m\u001b[0m\u001b[0m\n\u001b[0m",
      "\u001b[0;32m/usr/lib/python3.6/site-packages/wikipedia/wikipedia.py\u001b[0m in \u001b[0;36mpage\u001b[0;34m(title, pageid, auto_suggest, redirect, preload)\u001b[0m\n\u001b[1;32m    273\u001b[0m       \u001b[0;32mexcept\u001b[0m \u001b[0mIndexError\u001b[0m\u001b[0;34m:\u001b[0m\u001b[0;34m\u001b[0m\u001b[0m\n\u001b[1;32m    274\u001b[0m         \u001b[0;31m# if there is no suggestion or search results, the page doesn't exist\u001b[0m\u001b[0;34m\u001b[0m\u001b[0;34m\u001b[0m\u001b[0m\n\u001b[0;32m--> 275\u001b[0;31m         \u001b[0;32mraise\u001b[0m \u001b[0mPageError\u001b[0m\u001b[0;34m(\u001b[0m\u001b[0mtitle\u001b[0m\u001b[0;34m)\u001b[0m\u001b[0;34m\u001b[0m\u001b[0m\n\u001b[0m\u001b[1;32m    276\u001b[0m     \u001b[0;32mreturn\u001b[0m \u001b[0mWikipediaPage\u001b[0m\u001b[0;34m(\u001b[0m\u001b[0mtitle\u001b[0m\u001b[0;34m,\u001b[0m \u001b[0mredirect\u001b[0m\u001b[0;34m=\u001b[0m\u001b[0mredirect\u001b[0m\u001b[0;34m,\u001b[0m \u001b[0mpreload\u001b[0m\u001b[0;34m=\u001b[0m\u001b[0mpreload\u001b[0m\u001b[0;34m)\u001b[0m\u001b[0;34m\u001b[0m\u001b[0m\n\u001b[1;32m    277\u001b[0m   \u001b[0;32melif\u001b[0m \u001b[0mpageid\u001b[0m \u001b[0;32mis\u001b[0m \u001b[0;32mnot\u001b[0m \u001b[0;32mNone\u001b[0m\u001b[0;34m:\u001b[0m\u001b[0;34m\u001b[0m\u001b[0m\n",
      "\u001b[0;31mPageError\u001b[0m: Page id \"46.0510539\" does not match any pages. Try another id!"
     ]
    }
   ],
   "source": [
    "print(wikipedia.page(46.0510539, 14.4993315))"
   ]
  },
  {
   "cell_type": "code",
   "execution_count": 17,
   "metadata": {},
   "outputs": [
    {
     "name": "stdout",
     "output_type": "stream",
     "text": [
      "<WikipediaPage 'Northumberland Strait'>\n"
     ]
    }
   ],
   "source": [
    "print(wikipedia.page(46.05, 14.50))"
   ]
  },
  {
   "cell_type": "code",
   "execution_count": 19,
   "metadata": {},
   "outputs": [
    {
     "name": "stdout",
     "output_type": "stream",
     "text": [
      "<WikipediaPage 'Boeing 787 Dreamliner'>\n"
     ]
    }
   ],
   "source": [
    "print(wikipedia.page(37.787, -122.4))"
   ]
  },
  {
   "cell_type": "code",
   "execution_count": 20,
   "metadata": {},
   "outputs": [
    {
     "name": "stdout",
     "output_type": "stream",
     "text": [
      "None\n",
      "فيسبوك أو فيس بوك (بالإنجليزية: Facebook) موقع ويب يعتبر أشهر وسائل التواصل الاجتماعي ويمكن تعريفه بأنه شبكة اجتماعية كبيرة وتديره شركة \"فيسبوك\" شركة مساهمة.[محل شك]؛ فالمستخدمون بإمكانهم الانضمام إلى الشبكات التي تنظمها المدينة أو جهة العمل أو المدرسة أو الإقليم، وذلك من أجل الاتصال بالآخرين والتفاعل معهم. كذلك، يمكن للمستخدمين إضافة أصدقاء إلى قائمة أصدقائهم وإرسال الرسائل إليهم، وأيضًا تحديث ملفاتهم الشخصية وتعريف الأصدقاء بأنفسهم. ويشير اسم الموقع إلى دليل الصور الذي تقدمه الكليات والمدارس التمهيدية في الولايات المتحدة الأمريكية إلى أعضاء هيئة التدريس والطلبة الجدد، والذي يتضمن وصفًا لأعضاء الحرم الجامعي كوسيلة للتعرف إليهم\n",
      "وقد قام مارك زوكربيرغ بتأسيس فيسبوك بالاشتراك مع كل من داستين موسكوفيتز وكريس هيوز الذين تخصصا في دراسة علوم الحاسب وكانا رفيقي زوكربيرغ في سكن الجامعة عندما كان طالبًا في جامعة هارفارد. كانت عضوية الموقع مقتصرة في بداية الأمر على طلبة جامعة هارفارد، ولكنها امتدت بعد ذلك لتشمل الكليات الأخرى في مدينة بوسطن وجامعة آيفي ليج وجامعة ستانفورد. ثم اتسعت دائرة الموقع لتشمل أي طالب جامعي، ثم طلبة المدارس الثانوية، وأخيرًا أي شخص يبلغ من العمر 13 عامًا فأكثر. يضم الموقع حاليًا أكثر من مليار مستخدم على مستوى العالم.\n",
      "وقد أثير الكثير من الجدل حول موقع فيسبوك على مدار الأعوام القليلة الماضية. فقد تم حظر استخدام الموقع في العديد من الدول خلال فترات متفاوتة، كما حدث في سوريا  وإيران. كما تم حظر استخدام الموقع في العديد من جهات العمل لإثناء الموظفين عن إهدار أوقاتهم في استخدام تلك الخدمة. كذلك، مثلت انتقادات موجهة إلى فيسبوك مخاوف بشأن الحفاظ على الخصوصية واحدة من المشكلات التي يواجهها رواد الموقع، وكثيرًا ما تمت تسوية هذا الأمر بين طرفي النزاع. كما يواجه موقع فيسبوك العديد من الدعاوى القضائية من عدد من رفاق زوكربيرغ السابقين الذين يزعمون أن فيسبوك اعتمد على سرقة الكود الرئيسي الخاص بهم وبعض الملكيات الفكرية الأخرى.\n"
     ]
    }
   ],
   "source": [
    "print(wikipedia.set_lang(\"ar\"))\n",
    "print(wikipedia.summary(\"facebook\"))"
   ]
  },
  {
   "cell_type": "code",
   "execution_count": 13,
   "metadata": {},
   "outputs": [
    {
     "name": "stdout",
     "output_type": "stream",
     "text": [
      "None\n",
      "Facebook («Фе́йсбу́к», [ˈfeɪsˌbʊk]) — крупнейшая социальная сеть в мире и одноимённая компания (Facebook Inc.), владеющая ею. Была основана 4 февраля 2004 года Марком Цукербергом и его соседями по комнате во время обучения в Гарвардском университете — Эдуардо Саверином, Дастином Московицем и Крисом Хьюзом.\n",
      "Первоначально веб-сайт был назван Thefacebook и был доступен только для студентов Гарвардского университета, затем регистрацию открыли для других университетов Бостона, а затем и для студентов любых учебных учреждений США, имеющих электронный адрес в домене .edu. Начиная с сентября 2006 года сайт доступен для всех пользователей Интернета в возрасте от 13 лет, имеющих адрес электронной почты.\n",
      "Facebook входит в пятёрку наиболее посещаемых веб-сайтов мира. На апрель 2017 года месячная аудитория сети составляет 1,968 миллиарда человек. На июнь 2017 года аудитория Facebook составила 2 миллиарда пользователей — это те, кто заходил на сайт хотя бы раз в месяц или за указанный промежуток времени был зафиксирован с помощью кнопки Like и следящих cookie. Суточная активная аудитория в марте составила 720 миллионов человек — столько фиксируется следящей сетью Facebook ежедневно. 24 августа 2015 года число посетителей социальной сети Facebook впервые составило один миллиард человек. 1,03 млрд человек в месяц используют мобильное приложение Facebook. Каждый день в социальной сети пользователи оставляют 6 миллиардов «лайков» и комментариев и публикуют 300 миллионов фотографий. На сайте зафиксировано 200 миллиардов «дружеских связей». Количество просмотров страниц сайта в октябре 2011 года составило 1 триллион, количество просмотров видео на сайте достигло в 2015 году отметки в 8 миллиардов в день.\n",
      "Компания Facebook Inc. является владельцем других популярных сервисов, таких как Instagram, WhatsApp.\n",
      "Facebook написан на C++, PHP (HHVM).\n",
      "Благодаря этому сайту Марк Цукерберг в 23 года стал самым молодым миллиардером планеты.\n"
     ]
    }
   ],
   "source": [
    "print(wikipedia.set_lang(\"ru\"))\n",
    "print(wikipedia.summary(\"facebook\"))"
   ]
  },
  {
   "cell_type": "code",
   "execution_count": 16,
   "metadata": {},
   "outputs": [
    {
     "name": "stdout",
     "output_type": "stream",
     "text": [
      "None\n",
      "Facebook（フェイスブック、FB）は、アメリカ合衆国カリフォルニア州メンローパークに本社を置くFacebook, Inc.が運営する世界最大のソーシャル・ネットワーキング・サービス（SNS）である。Facebook, Inc.はアメリカ合衆国の主要なIT企業であり、GAFA、FAANGの一つで、FacebookのほかInstagramやMessenger、WhatsAppを提供している。\n",
      "Facebookという名前は、アメリカ合衆国の一部の大学が学生間の交流を促すために入学した年に提供している本の通称である「Face book」に由来している。\n"
     ]
    }
   ],
   "source": [
    "print(wikipedia.set_lang(\"ja\"))\n",
    "print(wikipedia.summary(\"facebook\"))"
   ]
  },
  {
   "cell_type": "code",
   "execution_count": 17,
   "metadata": {},
   "outputs": [
    {
     "name": "stdout",
     "output_type": "stream",
     "text": [
      "None\n",
      "페이스북(영어: Facebook)은 미국 캘리포니아 멘로파크에 본사를 둔, 세계 최대의 소셜 네트워크 서비스이다. 2004년 2월 4일에 마크 주커버그(영어: Mark Zuckerberg)가 하버드대 동문이자 룸메이트인 사람들과 함께 웹사이트를 개설했다. 2018년 8월 기준, 월 실 사용자(Monthly Active Users)의 수가 무려 22억 명에 달한다. 전 세계 인구 3명 가운데 한 사람이 페이스북을 하는 것이다.활발한 사용자 중 절반 이상은 모바일 기기에서도 페이스북을 이용하고 있다. 사용자들은 페이스북을 이용하기 전에 가입을 해야 한다. 가입 뒤 자신의 프로필을 만들고 사용자들을 친구로 추가하고, 메시지를 교환할 수 있다. 친구들이 프로필을 업데이트하면 자동적으로 알림이 뜬다. 또한 사용자들은 공통의 관심사를 가진 사용자 그룹에 가입할 수 있으며, 이 그룹들은 직장, 학교 등과 같은 특성으로 분류되고, 친구들은 '직장친구', '가까운 친구'와 같이 분류할 수 있다.\n",
      "\"Compete.com\"에 따르면 페이스북은 활동 사용자들 가운데 가장 많이 이용되는 소셜 네트워크 서비스라고 한다. 엔터테인먼트 위클리에서는 페이스북을 이번 10년 최고 리스트에 올리면서 \"페이스북이 있기 전에는 어떻게 우리가 전 애인의 근황을 알아보고, 우리 동료의 생일을 기억하고,친구를 놀렸을까?\"라고 언급했다.\n",
      "Quantcast는 매달마다 1억 3890만 명의 새로운 미국 방문자들이 있다고 한다. 소셜 미디어 투데이에 따르면 2010년 4월 기준 미국 인구의 41.6%가 페이스북 계정을 갖고 있다고 한다. 그럼에도 불구하고 페이스북의 성장은 일부 지역에서 제동이 걸렸으며, 미국과 캐나다에서만 700만 명의 활동 사용자들이 없어진 상태이다. 2012년 9월, 마크 저커버그는 회사의 시장가치 하락에 관해 이야기하면서 이러한 감소를 \"실망적\"이라고 표현했다. 2015년 8월 현재, 페이스북의 월 활동 사용자 및 일 활동 사용자는 전년 동기 대비 13%와 17%가 증가해 14억 9천만 명과 9억 6천 8백만 명을 기록했다. 아울러, 모바일 월 활동 사용자와 모바일 일 활동 사용자 수치는 13억 1천만 명과 8억 4천 4백만 명으로, 전체 월 활동 사용자의 65% 가량이 매일 페이스북을 사용하고 있다. 또한, 전 세계에서 인터넷에 접속할 수 있는 인구인 30억 명의 절반 가량이 페이스북을 사용하고 있는 것으로 나타났다 (2015년 2분기 월 활동 사용자 기준).\n",
      "\"페이스북\"이라는 이름은 학기 초에 학교 측에서 학생들에게 서로를 알아가라고 주는 책에서 비롯된다. 페이스북은 현재 13세 이상이면 누구나 가입할 수 있게 되어 있다.\n"
     ]
    }
   ],
   "source": [
    "print(wikipedia.set_lang(\"ko\"))\n",
    "print(wikipedia.summary(\"facebook\"))"
   ]
  },
  {
   "cell_type": "code",
   "execution_count": 18,
   "metadata": {},
   "outputs": [
    {
     "name": "stdout",
     "output_type": "stream",
     "text": [
      "None\n",
      "முகநூல் (Facebook, பேஸ்புக் ) 2004 இல் தொடங்கிய இணையவழி சமூக வலையமைப்பு நிறுவனமாகும். ஹார்வர்ட் பல்கலைக்கழகத்தில் ஒரு மாணவர் (மார்க் சக்கர்பர்க்) ஹார்வர்ட் மாணவர்களுக்கு ஆரம்பித்து பின்பு வேறு ஐவி லீக் பல்கலைக்கழக மாணவர்களுக்கும் அனுமதி கிடைத்தது. இன்றைய முகநூலில் 13 வயதான நபர்கள் சேரலாம். அலெக்சா நிறுவனத்தின் மதிப்பீட்டின்படி இணைய முழுவதிலும் முகநூல்தான் இரண்டாவது மிகப் பரவலமான இணையத்தளமாகும்.\n"
     ]
    }
   ],
   "source": [
    "print(wikipedia.set_lang(\"ta\"))\n",
    "print(wikipedia.summary(\"facebook\"))"
   ]
  },
  {
   "cell_type": "code",
   "execution_count": null,
   "metadata": {},
   "outputs": [],
   "source": []
  }
 ],
 "metadata": {
  "kernelspec": {
   "display_name": "Python 3",
   "language": "python",
   "name": "python3"
  },
  "language_info": {
   "codemirror_mode": {
    "name": "ipython",
    "version": 3
   },
   "file_extension": ".py",
   "mimetype": "text/x-python",
   "name": "python",
   "nbconvert_exporter": "python",
   "pygments_lexer": "ipython3",
   "version": "3.6.4"
  }
 },
 "nbformat": 4,
 "nbformat_minor": 2
}
